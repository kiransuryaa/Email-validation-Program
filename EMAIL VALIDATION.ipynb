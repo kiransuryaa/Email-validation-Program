{
 "cells": [
  {
   "cell_type": "markdown",
   "id": "48fb30d5",
   "metadata": {},
   "source": [
    "1. check min number of elements in string is 6.\n",
    "2. check 1st elements should be letter\n",
    "3. check whether @ present in string & if present it should be only once\n",
    "4. check . is present from atlast either at 3rd or 4th position.\n",
    "5. iterate string and check-\n",
    "    1. space should not be present\n",
    "    2. all letters should be in small letter\n",
    "    3. check if digits present then continue\n",
    "    4. check if . or _ or @ prsent then continue\n",
    "    5. if other than these symbol it should wrong email\n",
    "    "
   ]
  },
  {
   "cell_type": "code",
   "execution_count": 1,
   "id": "3a65f6f1",
   "metadata": {},
   "outputs": [
    {
     "name": "stdout",
     "output_type": "stream",
     "text": [
      " Enter your Email abcd123@gmail.com\n",
      "Right Email\n"
     ]
    }
   ],
   "source": [
    "email = input( \" Enter your Email \")\n",
    "l,j,d=0,0,0\n",
    "if len(email)>=6:\n",
    "    if email[0].isalpha():\n",
    "        if ( \"@\" in email) and (email.count(\"@\")==1):\n",
    "            if ( email[-3]== \".\") ^ ( email[-4]==\".\"):\n",
    "                if (email.rfind(\"@gmail\")) ^ (email.rfind(\"@yahoo\")):\n",
    "                    for i in email:\n",
    "                        if i == i.isspace():\n",
    "                            l=1\n",
    "                        elif i.isalpha():\n",
    "                            if i.isupper():\n",
    "                                j=1\n",
    "                        elif i.isdigit():\n",
    "                            continue\n",
    "                        elif i==\"_\" or i==\".\" or i==\"@\":\n",
    "                            continue\n",
    "                        else:\n",
    "                            d=1\n",
    "                        \n",
    "                    if l==1 or j==1 or d==1:\n",
    "                        print(\"wrong Email6\")\n",
    "                    else:\n",
    "                        print(\"Right Email\")\n",
    "                        \n",
    "                else:\n",
    "                    print(\"wrong Email5\")\n",
    "            else:\n",
    "                print(\"wrong Email4\")\n",
    "        else:\n",
    "            print(\"wrong Email3\")\n",
    "    else:\n",
    "        print(\" wrong Email2\")\n",
    "else:\n",
    "    print(\" Wrong Email1\")"
   ]
  }
 ],
 "metadata": {
  "kernelspec": {
   "display_name": "Python 3 (ipykernel)",
   "language": "python",
   "name": "python3"
  },
  "language_info": {
   "codemirror_mode": {
    "name": "ipython",
    "version": 3
   },
   "file_extension": ".py",
   "mimetype": "text/x-python",
   "name": "python",
   "nbconvert_exporter": "python",
   "pygments_lexer": "ipython3",
   "version": "3.9.13"
  }
 },
 "nbformat": 4,
 "nbformat_minor": 5
}
